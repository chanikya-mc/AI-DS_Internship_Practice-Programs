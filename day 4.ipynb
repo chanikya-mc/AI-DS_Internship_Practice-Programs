{
 "cells": [
  {
   "cell_type": "code",
   "execution_count": 1,
   "id": "cec5af98",
   "metadata": {},
   "outputs": [],
   "source": [
    "import pandas as pd"
   ]
  },
  {
   "cell_type": "code",
   "execution_count": 3,
   "id": "8190e1fd",
   "metadata": {},
   "outputs": [
    {
     "name": "stdout",
     "output_type": "stream",
     "text": [
      "   0\n",
      "a  1\n",
      "b  2\n",
      "c  3\n"
     ]
    }
   ],
   "source": [
    "data=[1,2,3]\n",
    "Df=pd.DataFrame(data,index=(\"a\",\"b\",\"c\"))\n",
    "print(Df)\n"
   ]
  },
  {
   "cell_type": "code",
   "execution_count": 5,
   "id": "89645b90",
   "metadata": {},
   "outputs": [
    {
     "name": "stdout",
     "output_type": "stream",
     "text": [
      "  name  age\n",
      "0   a,   20\n"
     ]
    }
   ],
   "source": [
    "data={'name':[\"a,\"],\"age\":[20]}\n",
    "Df=pd.DataFrame(data,)\n",
    "print(Df)"
   ]
  },
  {
   "cell_type": "code",
   "execution_count": 10,
   "id": "39300d3d",
   "metadata": {},
   "outputs": [
    {
     "name": "stdout",
     "output_type": "stream",
     "text": [
      "    a   b     c\n",
      "0  10  20   NaN\n",
      "1  30  40  50.0\n"
     ]
    }
   ],
   "source": [
    "data=[{'a':10,\"b\":20},{\"a\":30,\"b\":40,\"c\":50}]\n",
    "print(pd.DataFrame(data))"
   ]
  },
  {
   "cell_type": "code",
   "execution_count": 11,
   "id": "3d5333a4",
   "metadata": {},
   "outputs": [
    {
     "name": "stdout",
     "output_type": "stream",
     "text": [
      "      a     b     c     d     e    xx    yy\n",
      "0  10.0  20.0   NaN   NaN   NaN   NaN   NaN\n",
      "1   NaN   NaN  30.0  40.0  50.0   NaN   NaN\n",
      "2   NaN   NaN   NaN   NaN   NaN  22.0  33.0\n"
     ]
    }
   ],
   "source": [
    "data=[{'a':10,\"b\":20},{\"c\":30,\"d\":40,\"e\":50},{\"xx\":22,\"yy\":33}]\n",
    "print(pd.DataFrame(data))"
   ]
  },
  {
   "cell_type": "code",
   "execution_count": 19,
   "id": "2a14eb7d",
   "metadata": {},
   "outputs": [
    {
     "name": "stdout",
     "output_type": "stream",
     "text": [
      "           a     b     c\n",
      "first   10.0  20.0   NaN\n",
      "second   NaN   NaN  30.0\n",
      "       a     b     c     d     e\n",
      "xx  10.0  20.0   NaN   NaN   NaN\n",
      "yy   NaN   NaN  30.0  40.0  50.0\n"
     ]
    }
   ],
   "source": [
    "data=[{'a':10,\"b\":20},{\"c\":30,\"d\":40,\"e\":50}]\n",
    "df=pd.DataFrame(data,index=[\"first\",\"second\"],columns=[\"a\",\"b\",\"c\"])\n",
    "df1=pd.DataFrame(data,index=[\"xx\",\"yy\"],columns=[\"a\",\"b\",\"c\",\"d\",\"e\"])\n",
    "print(df)\n",
    "print(df1)"
   ]
  },
  {
   "cell_type": "code",
   "execution_count": 23,
   "id": "d3b34daf",
   "metadata": {},
   "outputs": [
    {
     "name": "stdout",
     "output_type": "stream",
     "text": [
      "      c     d     e\n",
      "0   NaN   NaN   NaN\n",
      "1  30.0  40.0  50.0\n"
     ]
    }
   ],
   "source": [
    "data=[{'a':10,\"b\":20},{\"c\":30,\"d\":40,\"e\":50}]\n",
    "df=pd.DataFrame(data,index=[\"0\",\"1\"],columns=[\"c\",\"d\",\"e\"])\n",
    "print(df)"
   ]
  },
  {
   "cell_type": "code",
   "execution_count": 31,
   "id": "aade7da7",
   "metadata": {},
   "outputs": [
    {
     "name": "stdout",
     "output_type": "stream",
     "text": [
      "   one  two  three  four\n",
      "a    1   11     10    12\n",
      "b    2  222     20   224\n",
      "c    3   33     30    36\n",
      "   one  two  three  four\n",
      "b    2  222     20   224\n",
      "c    3   33     30    36\n"
     ]
    }
   ],
   "source": [
    "data={\"one\":pd.Series([1,2,3],index=(\"a\",\"b\",\"c\")),\"two\":pd.Series([11,222,33],index=(\"a\",\"b\",\"c\"))}\n",
    "df=pd.DataFrame(data)\n",
    "df[\"three\"]=pd.Series([10,20,30],index=(\"a\",\"b\",\"c\"))\n",
    "df[\"four\"]=df[\"one\"]+df[\"two\"]\n",
    "print(df)\n",
    "print(df[1:4])"
   ]
  },
  {
   "cell_type": "code",
   "execution_count": 42,
   "id": "4a2503ea",
   "metadata": {},
   "outputs": [
    {
     "name": "stdout",
     "output_type": "stream",
     "text": [
      "   one  two  three  four\n",
      "c    3   33     30    36\n",
      "a    1   11     10    12\n"
     ]
    }
   ],
   "source": [
    "data={\"one\":pd.Series([1,2,3],index=(\"a\",\"b\",\"c\")),\"two\":pd.Series([11,222,33],index=(\"a\",\"b\",\"c\"))}\n",
    "df=pd.DataFrame(data)\n",
    "df[\"three\"]=pd.Series([10,20,30],index=(\"a\",\"b\",\"c\"))\n",
    "df[\"four\"]=df[\"one\"]+df[\"two\"]\n",
    "\n",
    "print(df[::-2])"
   ]
  },
  {
   "cell_type": "code",
   "execution_count": 61,
   "id": "def00049",
   "metadata": {},
   "outputs": [
    {
     "name": "stdout",
     "output_type": "stream",
     "text": [
      "   one  two  three  four\n",
      "a    1   11     10    12\n",
      "b    2  222     20   224\n",
      "c    3   33     30    36\n",
      "\n",
      "\n",
      "\n",
      "   two  three  four\n",
      "a   11     10    12\n",
      "b  222     20   224\n",
      "c   33     30    36\n",
      "\n",
      "\n",
      "\n",
      "   three  four\n",
      "a     10    12\n",
      "b     20   224\n",
      "c     30    36\n"
     ]
    }
   ],
   "source": [
    "data={\"one\":pd.Series([1,2,3],index=(\"a\",\"b\",\"c\")),\"two\":pd.Series([11,222,33],index=(\"a\",\"b\",\"c\"))}\n",
    "df=pd.DataFrame(data)\n",
    "df[\"three\"]=pd.Series([10,20,30],index=(\"a\",\"b\",\"c\"))\n",
    "df[\"four\"]=df[\"one\"]+df[\"two\"]\n",
    "print(df)\n",
    "print(\"\\n\\n\")\n",
    "x=df.pop(\"one\")\n",
    "print(df)\n",
    "print(\"\\n\\n\")\n",
    "del df[\"two\"]\n",
    "print(df)"
   ]
  },
  {
   "cell_type": "code",
   "execution_count": 68,
   "id": "b8a1c8f5",
   "metadata": {},
   "outputs": [
    {
     "name": "stdout",
     "output_type": "stream",
     "text": [
      "   one  two  three  four\n",
      "a    1   11     10    12\n",
      "b    2  222     20   224\n",
      "c    3   33     30    36\n",
      "\n",
      "\n",
      "\n",
      "   one    two  three   four      a      b\n",
      "a  1.0   11.0   10.0   12.0    NaN    NaN\n",
      "b  2.0  222.0   20.0  224.0    NaN    NaN\n",
      "c  3.0   33.0   30.0   36.0    NaN    NaN\n",
      "0  NaN    NaN    NaN    NaN  100.0  200.0\n",
      "1  NaN    NaN    NaN    NaN  300.0  400.0\n"
     ]
    }
   ],
   "source": [
    "data={\"one\":pd.Series([1,2,3],index=(\"a\",\"b\",\"c\")),\"two\":pd.Series([11,222,33],index=(\"a\",\"b\",\"c\"))}\n",
    "df=pd.DataFrame(data)\n",
    "df[\"three\"]=pd.Series([10,20,30],index=(\"a\",\"b\",\"c\"))\n",
    "df[\"four\"]=df[\"one\"]+df[\"two\"]\n",
    "df2=pd.DataFrame([[100,200],[300,400]],index=[\"d\",\"e\"],columns=[\"a\",\"b\"])\n",
    "df.append(df2)\n",
    "print(df)\n",
    "print(\"\\n\\n\")\n",
    "print(Df)"
   ]
  },
  {
   "cell_type": "code",
   "execution_count": 73,
   "id": "0c224b7e",
   "metadata": {},
   "outputs": [
    {
     "name": "stdout",
     "output_type": "stream",
     "text": [
      "      c     d     e     x     y     z\n",
      "0  30.0  40.0  50.0   NaN   NaN   NaN\n",
      "0   NaN   NaN   NaN  30.0  40.0  50.0\n"
     ]
    }
   ],
   "source": [
    "data=pd.DataFrame([{\"c\":30,\"d\":40,\"e\":50}])\n",
    "data1=pd.DataFrame([{\"x\":30,\"y\":40,\"z\":50}])\n",
    "print(pd.concat([data,data1]))\n",
    "\n"
   ]
  },
  {
   "cell_type": "code",
   "execution_count": 74,
   "id": "60c168df",
   "metadata": {},
   "outputs": [
    {
     "name": "stdout",
     "output_type": "stream",
     "text": [
      "['1', '2', '3', '4', '5']\n",
      "Categories (5, object): ['1', '2', '3', '4', '5']\n"
     ]
    }
   ],
   "source": [
    "cat=pd.Categorical([\"1\",\"2\",\"3\",\"4\",\"5\"])\n",
    "print(cat)"
   ]
  }
 ],
 "metadata": {
  "kernelspec": {
   "display_name": "Python 3",
   "language": "python",
   "name": "python3"
  },
  "language_info": {
   "codemirror_mode": {
    "name": "ipython",
    "version": 3
   },
   "file_extension": ".py",
   "mimetype": "text/x-python",
   "name": "python",
   "nbconvert_exporter": "python",
   "pygments_lexer": "ipython3",
   "version": "3.8.8"
  }
 },
 "nbformat": 4,
 "nbformat_minor": 5
}
