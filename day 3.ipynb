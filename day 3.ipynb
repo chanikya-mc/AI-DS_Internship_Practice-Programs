{
 "cells": [
  {
   "cell_type": "code",
   "execution_count": 1,
   "id": "c4043176",
   "metadata": {},
   "outputs": [],
   "source": [
    "import numpy as np\n",
    "arr = np.array([1, 2, 3, 4, 5])\n",
    "print(arr)"
   ]
  },
  {
   "cell_type": "code",
   "execution_count": 16,
   "id": "675b1599",
   "metadata": {},
   "outputs": [
    {
     "name": "stdout",
     "output_type": "stream",
     "text": [
      "[[ 1  2  3]\n",
      " [ 4  5  6]\n",
      " [59 46 34]\n",
      " [ 8  2  3]]\n"
     ]
    }
   ],
   "source": [
    "a=np.array([[1,2,3],[4,5,6],[59,46,34],[8,2,3]])\n",
    "print(a)"
   ]
  },
  {
   "cell_type": "code",
   "execution_count": 17,
   "id": "68d35cf2",
   "metadata": {},
   "outputs": [
    {
     "data": {
      "text/plain": [
       "2"
      ]
     },
     "execution_count": 17,
     "metadata": {},
     "output_type": "execute_result"
    }
   ],
   "source": [
    "a.ndim"
   ]
  },
  {
   "cell_type": "code",
   "execution_count": 8,
   "id": "e8cc4aac",
   "metadata": {
    "scrolled": true
   },
   "outputs": [
    {
     "name": "stdout",
     "output_type": "stream",
     "text": [
      "[[[ 1  2  3]\n",
      "  [ 4  5  6]\n",
      "  [59 46 34]\n",
      "  [ 8  2  3]]]\n"
     ]
    }
   ],
   "source": [
    "b=np.array([[[1,2,3],[4,5,6],[59,46,34],[8,2,3]]])\n",
    "print(b)"
   ]
  },
  {
   "cell_type": "code",
   "execution_count": 15,
   "id": "19cea117",
   "metadata": {},
   "outputs": [
    {
     "data": {
      "text/plain": [
       "3"
      ]
     },
     "execution_count": 15,
     "metadata": {},
     "output_type": "execute_result"
    }
   ],
   "source": [
    "b.ndim"
   ]
  },
  {
   "cell_type": "code",
   "execution_count": 10,
   "id": "201f1d4c",
   "metadata": {
    "scrolled": true
   },
   "outputs": [
    {
     "name": "stdout",
     "output_type": "stream",
     "text": [
      "[[[[ 1  2  3]\n",
      "   [ 4  5  6]\n",
      "   [59 46 34]\n",
      "   [ 8  2  3]]]]\n"
     ]
    }
   ],
   "source": [
    "c=np.array([[[[1,2,3],[4,5,6],[59,46,34],[8,2,3]]]])\n",
    "print(c)"
   ]
  },
  {
   "cell_type": "code",
   "execution_count": 14,
   "id": "b1a3af7a",
   "metadata": {},
   "outputs": [
    {
     "name": "stdout",
     "output_type": "stream",
     "text": [
      "4\n"
     ]
    }
   ],
   "source": [
    "print(c.ndim)"
   ]
  },
  {
   "cell_type": "code",
   "execution_count": 20,
   "id": "e4498427",
   "metadata": {},
   "outputs": [
    {
     "name": "stdout",
     "output_type": "stream",
     "text": [
      "[1 2 3]\n",
      "1\n"
     ]
    }
   ],
   "source": [
    "d=np.array([1,2,3])\n",
    "print(d)\n",
    "print(d.ndim)"
   ]
  },
  {
   "cell_type": "code",
   "execution_count": 21,
   "id": "a216aa77",
   "metadata": {},
   "outputs": [
    {
     "name": "stdout",
     "output_type": "stream",
     "text": [
      "6\n"
     ]
    }
   ],
   "source": [
    "x=np.array([1,2,3,4,5])\n",
    "c=0\n",
    "for i in range(len(x)):\n",
    "    c=c+x[i]\n",
    "print(c)"
   ]
  },
  {
   "cell_type": "code",
   "execution_count": 26,
   "id": "267188c9",
   "metadata": {},
   "outputs": [
    {
     "name": "stdout",
     "output_type": "stream",
     "text": [
      "16\n"
     ]
    }
   ],
   "source": [
    "x=np.array([[1,2,3,4,5],[9,8,7,6,5],[1,2,3,4,5],[5,4,3,2,1]])\n",
    "c=0\n",
    "for i in range(len(x)):\n",
    "    c=c+x[i][1]\n",
    "print(c)"
   ]
  },
  {
   "cell_type": "code",
   "execution_count": 27,
   "id": "3dfc4792",
   "metadata": {},
   "outputs": [
    {
     "data": {
      "text/plain": [
       "1"
      ]
     },
     "execution_count": 27,
     "metadata": {},
     "output_type": "execute_result"
    }
   ],
   "source": [
    "x[2,0]"
   ]
  },
  {
   "cell_type": "code",
   "execution_count": 28,
   "id": "ea8b598a",
   "metadata": {},
   "outputs": [
    {
     "name": "stdout",
     "output_type": "stream",
     "text": [
      "[9 8 7 6 5]\n"
     ]
    }
   ],
   "source": [
    "x=np.array(\n",
    "    [[[1,2,3,4,5],[9,8,7,6,5],[1,2,3,4,5],[5,4,3,2,1]][1,2,3,4,5],[9,8,7,6,5],[1,2,3,4,5],[5,4,3,2,1]]\n",
    ")\n",
    "c=0\n",
    "for i in range(len(x)):\n",
    "    c=c+x[i][1]\n",
    "print(c)"
   ]
  },
  {
   "cell_type": "code",
   "execution_count": 30,
   "id": "905d002f",
   "metadata": {},
   "outputs": [
    {
     "ename": "SyntaxError",
     "evalue": "invalid syntax (<ipython-input-30-554f97449f11>, line 1)",
     "output_type": "error",
     "traceback": [
      "\u001b[1;36m  File \u001b[1;32m\"<ipython-input-30-554f97449f11>\"\u001b[1;36m, line \u001b[1;32m1\u001b[0m\n\u001b[1;33m    print(x[][][])\u001b[0m\n\u001b[1;37m            ^\u001b[0m\n\u001b[1;31mSyntaxError\u001b[0m\u001b[1;31m:\u001b[0m invalid syntax\n"
     ]
    }
   ],
   "source": [
    "print(x[][][])"
   ]
  },
  {
   "cell_type": "code",
   "execution_count": 32,
   "id": "a398b58f",
   "metadata": {},
   "outputs": [],
   "source": [
    "a = np.array(\n",
    "    [\n",
    "    [ [1,2,3,4], [5,6,7,8], [9,10,11,12] ],  \n",
    "    [ [1,2,3,4], [5,6,7,8], [9,10,11,12] ],  \n",
    "    ]\n",
    ")"
   ]
  },
  {
   "cell_type": "code",
   "execution_count": 38,
   "id": "47cbd1cf",
   "metadata": {},
   "outputs": [
    {
     "name": "stdout",
     "output_type": "stream",
     "text": [
      "20\n"
     ]
    }
   ],
   "source": [
    "c=0\n",
    "d=0\n",
    "for i in range(4):\n",
    "    c=c+a[0][0][i]\n",
    "    d=d+a[1][0][i]\n",
    "print(c+d)"
   ]
  },
  {
   "cell_type": "code",
   "execution_count": 40,
   "id": "552dcc93",
   "metadata": {},
   "outputs": [
    {
     "name": "stdout",
     "output_type": "stream",
     "text": [
      "[1 2 3 4 5 6]\n"
     ]
    }
   ],
   "source": [
    "a = np.array(\n",
    "    [1,2,3,4,5,6,7,8,9,10,11,12]\n",
    ")\n",
    "print(a[0:6])"
   ]
  },
  {
   "cell_type": "code",
   "execution_count": 42,
   "id": "c5143369",
   "metadata": {},
   "outputs": [
    {
     "name": "stdout",
     "output_type": "stream",
     "text": [
      "[ 4  5  6  7  8  9 10]\n"
     ]
    }
   ],
   "source": [
    "print(a[3:10])"
   ]
  },
  {
   "cell_type": "code",
   "execution_count": 43,
   "id": "0e3f7365",
   "metadata": {},
   "outputs": [
    {
     "name": "stdout",
     "output_type": "stream",
     "text": [
      "[ 6  7  8  9 10]\n"
     ]
    }
   ],
   "source": [
    "print(a[-7:10])"
   ]
  },
  {
   "cell_type": "code",
   "execution_count": 48,
   "id": "6ed3125c",
   "metadata": {},
   "outputs": [
    {
     "name": "stdout",
     "output_type": "stream",
     "text": [
      "[ 1  3  5  7  9 11]\n"
     ]
    }
   ],
   "source": [
    "print(a[0:12:2])"
   ]
  },
  {
   "cell_type": "code",
   "execution_count": 52,
   "id": "0ece5600",
   "metadata": {},
   "outputs": [
    {
     "name": "stdout",
     "output_type": "stream",
     "text": [
      "[[list([1, 2, 3, 2, 3, 4, 5]) list([2, 3, 4, 5, 6]) list([1, 2, 3])]]\n"
     ]
    },
    {
     "name": "stderr",
     "output_type": "stream",
     "text": [
      "<ipython-input-52-56768b70606f>:1: VisibleDeprecationWarning: Creating an ndarray from ragged nested sequences (which is a list-or-tuple of lists-or-tuples-or ndarrays with different lengths or shapes) is deprecated. If you meant to do this, you must specify 'dtype=object' when creating the ndarray.\n",
      "  arr=np.array([[[1,2,3,2,3,4,5],[2,3,4,5,6],[1,2,3]]])\n"
     ]
    }
   ],
   "source": [
    "arr=np.array([[[1,2,3,2,3,4,5],[2,3,4,5,6],[1,2,3]]])\n",
    "print(arr)\n",
    "  "
   ]
  },
  {
   "cell_type": "code",
   "execution_count": 55,
   "id": "ceb8487c",
   "metadata": {
    "scrolled": true
   },
   "outputs": [
    {
     "name": "stdout",
     "output_type": "stream",
     "text": [
      "1\n",
      "[[ 1  2  3  4  5]\n",
      " [ 6  7  8  9 10]]\n"
     ]
    }
   ],
   "source": [
    "p=np.array([1,2,3,4,5,6,7,8,9,10])\n",
    "print(p.ndim)\n",
    "print(p.reshape(2,5))"
   ]
  },
  {
   "cell_type": "code",
   "execution_count": 61,
   "id": "6a56604d",
   "metadata": {
    "scrolled": false
   },
   "outputs": [
    {
     "name": "stdout",
     "output_type": "stream",
     "text": [
      "[[1 2 3]\n",
      " [4 5 6]]\n"
     ]
    }
   ],
   "source": [
    "p=np.array([[1,2,3]])\n",
    "q=np.array([[4,5,6]])\n",
    "print(np.concatenate((p,q)))"
   ]
  },
  {
   "cell_type": "code",
   "execution_count": 71,
   "id": "614e6528",
   "metadata": {},
   "outputs": [
    {
     "name": "stdout",
     "output_type": "stream",
     "text": [
      "[array([1, 2, 3]), array([4, 5, 6]), array([7, 8, 9]), array([10, 11, 12])] \n",
      "\n",
      "[[ 1  2  3  4  5  6]\n",
      " [ 7  8  9 10 11 12]]\n"
     ]
    }
   ],
   "source": [
    "a = np.array([1,2,3,4,5,6,7,8,9,10,11,12])\n",
    "x=np.array_split(a,4)\n",
    "print(x,\"\\n\")\n",
    "print(a.reshape(2,6))"
   ]
  },
  {
   "cell_type": "code",
   "execution_count": null,
   "id": "be53d22b",
   "metadata": {},
   "outputs": [],
   "source": []
  }
 ],
 "metadata": {
  "kernelspec": {
   "display_name": "Python 3",
   "language": "python",
   "name": "python3"
  },
  "language_info": {
   "codemirror_mode": {
    "name": "ipython",
    "version": 3
   },
   "file_extension": ".py",
   "mimetype": "text/x-python",
   "name": "python",
   "nbconvert_exporter": "python",
   "pygments_lexer": "ipython3",
   "version": "3.8.8"
  }
 },
 "nbformat": 4,
 "nbformat_minor": 5
}
