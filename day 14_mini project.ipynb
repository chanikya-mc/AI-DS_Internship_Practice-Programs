{
 "cells": [
  {
   "cell_type": "code",
   "execution_count": 1,
   "id": "3be7b253",
   "metadata": {},
   "outputs": [],
   "source": [
    "import random\n",
    "import string as st\n",
    "import pyperclip"
   ]
  },
  {
   "cell_type": "code",
   "execution_count": 2,
   "id": "263890c7",
   "metadata": {},
   "outputs": [
    {
     "name": "stdout",
     "output_type": "stream",
     "text": [
      "Collecting pyperclipNote: you may need to restart the kernel to use updated packages.\n",
      "  Downloading pyperclip-1.8.2.tar.gz (20 kB)\n",
      "Building wheels for collected packages: pyperclip\n",
      "  Building wheel for pyperclip (setup.py): started\n",
      "  Building wheel for pyperclip (setup.py): finished with status 'done'\n",
      "  Created wheel for pyperclip: filename=pyperclip-1.8.2-py3-none-any.whl size=11107 sha256=50c9f281c9db0852c0f7ab5504a2eda013c909958b21f51bc68bef75a9a39f70\n",
      "  Stored in directory: c:\\users\\dell\\appdata\\local\\pip\\cache\\wheels\\7f\\1a\\65\\84ff8c386bec21fca6d220ea1f5498a0367883a78dd5ba6122\n",
      "Successfully built pyperclip\n",
      "Installing collected packages: pyperclip\n",
      "Successfully installed pyperclip-1.8.2\n",
      "\n"
     ]
    }
   ],
   "source": [
    "pip install pyperclip"
   ]
  },
  {
   "cell_type": "code",
   "execution_count": 3,
   "id": "22cfd3ae",
   "metadata": {},
   "outputs": [
    {
     "name": "stdout",
     "output_type": "stream",
     "text": [
      "password generation\n",
      "-------------------\n",
      "Enter the length of password>>11\n",
      "enter upper case letter>>(y/n):n\n",
      "enter lower case letters>>(y/n):n\n",
      "enter numbers>>(y/n): n\n",
      "enterspecial character>>(y/n): y\n",
      "generated password>> +_!\"\"'-:>^{\n",
      "password copied to clipboard.\n"
     ]
    }
   ],
   "source": [
    "def gp(l,iu,il,ni,isc):\n",
    "    char=\"\"\n",
    "    if iu:\n",
    "        char+=st.ascii_uppercase\n",
    "    if il:\n",
    "        char+=st.ascii_lowercase\n",
    "    if ni:\n",
    "        char+=st.digits\n",
    "    if isc:\n",
    "        char+=st.punctuation\n",
    "    password=''.join(random.choice(char) for _ in range(l))\n",
    "    return password\n",
    "def main():\n",
    "    print(\"password generation\")\n",
    "    print(\"-------------------\")\n",
    "    #get input\n",
    "    l=int(input(\"Enter the length of password>>\"))\n",
    "    iu=input(\"enter upper case letter>>(y/n):\").lower()=='y'\n",
    "    il=input(\"enter lower case letters>>(y/n):\").lower()=='y'\n",
    "    ni=input(\"enter numbers>>(y/n): \").lower()=='y'\n",
    "    isc=input(\"enterspecial character>>(y/n): \").lower()=='y'\n",
    "    password=gp(l,iu,il,ni,isc)\n",
    "    \n",
    "    print(\"generated password>>\",password)\n",
    "    \n",
    "    pyperclip.copy(password)\n",
    "    print(\"password copied to clipboard.\")\n",
    "    \n",
    "if __name__==\"__main__\":\n",
    "    main()"
   ]
  },
  {
   "cell_type": "code",
   "execution_count": null,
   "id": "0bf96a49",
   "metadata": {},
   "outputs": [],
   "source": [
    ")7sKbW`-#6H}XmEF|>Z(cc\"X%e(7:S,!=hwdiM!c7G0-I&[gfq\\-D>7)O3;nQ\"FbV!be:C#>*!wN;}rHd/A6g@fglWXvLD<SM'!3"
   ]
  },
  {
   "cell_type": "code",
   "execution_count": null,
   "id": "75ade68d",
   "metadata": {},
   "outputs": [],
   "source": []
  },
  {
   "cell_type": "code",
   "execution_count": null,
   "id": "d2fbc21a",
   "metadata": {},
   "outputs": [],
   "source": []
  },
  {
   "cell_type": "code",
   "execution_count": null,
   "id": "dfb46abf",
   "metadata": {},
   "outputs": [],
   "source": []
  },
  {
   "cell_type": "code",
   "execution_count": null,
   "id": "f464059d",
   "metadata": {},
   "outputs": [],
   "source": []
  },
  {
   "cell_type": "code",
   "execution_count": null,
   "id": "9cb6c302",
   "metadata": {},
   "outputs": [],
   "source": []
  }
 ],
 "metadata": {
  "kernelspec": {
   "display_name": "Python 3",
   "language": "python",
   "name": "python3"
  },
  "language_info": {
   "codemirror_mode": {
    "name": "ipython",
    "version": 3
   },
   "file_extension": ".py",
   "mimetype": "text/x-python",
   "name": "python",
   "nbconvert_exporter": "python",
   "pygments_lexer": "ipython3",
   "version": "3.8.8"
  }
 },
 "nbformat": 4,
 "nbformat_minor": 5
}
