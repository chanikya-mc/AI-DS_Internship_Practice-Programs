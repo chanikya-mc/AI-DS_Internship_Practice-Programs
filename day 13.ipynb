{
 "cells": [
  {
   "cell_type": "code",
   "execution_count": 2,
   "id": "d0fa1936",
   "metadata": {},
   "outputs": [],
   "source": [
    "import numpy as np"
   ]
  },
  {
   "cell_type": "code",
   "execution_count": 4,
   "id": "c30ace75",
   "metadata": {},
   "outputs": [
    {
     "name": "stdout",
     "output_type": "stream",
     "text": [
      "[1 2 3 4] [2 4 6 8]\n",
      "60\n"
     ]
    }
   ],
   "source": [
    "a=np.array([1,2,3,4])\n",
    "b=np.array([2,4,6,8])\n",
    "print(a,b)\n",
    "print(np.inner(a,b))"
   ]
  },
  {
   "cell_type": "code",
   "execution_count": 36,
   "id": "bc45f607",
   "metadata": {},
   "outputs": [
    {
     "name": "stdout",
     "output_type": "stream",
     "text": [
      "<class 'numpy.matrix'>\n",
      "[[10 12 14]\n",
      " [16 22 28]\n",
      " [10 14 18]]\n"
     ]
    }
   ],
   "source": [
    "d=np.matrix([[1,2,3],[2,2,2]])\n",
    "c=np.matrix([[2,4],[6,5],[4,3]])\n",
    "print(type(c))\n",
    "print(np.dot(c,d))"
   ]
  },
  {
   "cell_type": "code",
   "execution_count": 37,
   "id": "800f4f03",
   "metadata": {},
   "outputs": [
    {
     "name": "stdout",
     "output_type": "stream",
     "text": [
      "[[2 4]\n",
      " [6 5]\n",
      " [4 3]]\n",
      " \n",
      "[[2 6 4]\n",
      " [4 5 3]]\n"
     ]
    }
   ],
   "source": [
    "print(c)\n",
    "print(\" \")\n",
    "print(np.transpose(c))"
   ]
  },
  {
   "cell_type": "code",
   "execution_count": 38,
   "id": "cdad8c2c",
   "metadata": {},
   "outputs": [
    {
     "data": {
      "text/plain": [
       "matrix([[2, 6, 4],\n",
       "        [4, 5, 3]])"
      ]
     },
     "execution_count": 38,
     "metadata": {},
     "output_type": "execute_result"
    }
   ],
   "source": [
    "c.transpose()"
   ]
  },
  {
   "cell_type": "code",
   "execution_count": 44,
   "id": "e3e7a598",
   "metadata": {},
   "outputs": [
    {
     "data": {
      "text/plain": [
       "array([[2, 3],\n",
       "       [2, 4]])"
      ]
     },
     "execution_count": 44,
     "metadata": {},
     "output_type": "execute_result"
    }
   ],
   "source": [
    "c.T"
   ]
  },
  {
   "cell_type": "code",
   "execution_count": 43,
   "id": "fcafb0d8",
   "metadata": {},
   "outputs": [
    {
     "name": "stdout",
     "output_type": "stream",
     "text": [
      "[[1 2 3]\n",
      " [4 5 6]\n",
      " [7 8 9]]\n",
      "[[1 2 3]\n",
      " [4 5 6]\n",
      " [7 8 9]]\n"
     ]
    }
   ],
   "source": [
    "x=np.arange(1, 10)\n",
    "x.shape=(3,3)\n",
    "print(x)\n",
    "rank=np.linalg.matrix_rank(x)\n",
    "print(x)"
   ]
  },
  {
   "cell_type": "code",
   "execution_count": 45,
   "id": "15b0d7fe",
   "metadata": {},
   "outputs": [
    {
     "name": "stdout",
     "output_type": "stream",
     "text": [
      "1.9999999999999998\n",
      "2.0\n"
     ]
    }
   ],
   "source": [
    "c=np.array([[2,2],[3,4]])\n",
    "det=np.linalg.det(c)\n",
    "print(det)\n",
    "print(np.round(det))"
   ]
  },
  {
   "cell_type": "code",
   "execution_count": 46,
   "id": "1c50ed15",
   "metadata": {},
   "outputs": [
    {
     "name": "stdout",
     "output_type": "stream",
     "text": [
      "[[2 2 1]\n",
      " [1 3 1]\n",
      " [1 2 2]]\n",
      "4.999999999999999\n",
      "5.0\n"
     ]
    }
   ],
   "source": [
    "a=np.array([[2,2,1],[1,3,1],[1,2,2]])\n",
    "print(a)\n",
    "det=np.linalg.det(a)\n",
    "print(det)\n",
    "print(np.round(det))\n",
    "inv=np.linalg.inv(a)"
   ]
  },
  {
   "cell_type": "code",
   "execution_count": 48,
   "id": "0bb8a0e7",
   "metadata": {},
   "outputs": [
    {
     "name": "stdout",
     "output_type": "stream",
     "text": [
      "[[2 2 1]\n",
      " [1 3 1]\n",
      " [1 2 2]]\n",
      "[5. 1. 1.] [[ 0.57735027  0.90453403  0.36601928]\n",
      " [ 0.57735027 -0.30151134 -0.55609927]\n",
      " [ 0.57735027 -0.30151134  0.74617926]]\n"
     ]
    }
   ],
   "source": [
    "a=np.array([[2,2,1],[1,3,1],[1,2,2]])\n",
    "print(a)\n",
    "w,v=np.linalg.eig(a)\n",
    "print(w,v)"
   ]
  },
  {
   "cell_type": "code",
   "execution_count": 49,
   "id": "d36d919e",
   "metadata": {},
   "outputs": [
    {
     "name": "stdout",
     "output_type": "stream",
     "text": [
      "[[2 2 1]\n",
      " [1 3 1]\n",
      " [1 2 2]]\n",
      "(array([5., 1., 1.]), array([[ 0.57735027,  0.90453403,  0.36601928],\n",
      "       [ 0.57735027, -0.30151134, -0.55609927],\n",
      "       [ 0.57735027, -0.30151134,  0.74617926]]))\n"
     ]
    }
   ],
   "source": [
    "a=np.array([[2,2,1],[1,3,1],[1,2,2]])\n",
    "print(a)\n",
    "w=np.linalg.eig(a)\n",
    "print(w)"
   ]
  },
  {
   "cell_type": "markdown",
   "id": "77d3fdef",
   "metadata": {},
   "source": [
    "# operations"
   ]
  },
  {
   "cell_type": "code",
   "execution_count": 50,
   "id": "56b87b67",
   "metadata": {},
   "outputs": [
    {
     "name": "stdout",
     "output_type": "stream",
     "text": [
      "[1 2 3 4 5]\n"
     ]
    }
   ],
   "source": [
    "a1=np.array([1,2,3,4,5])\n",
    "print(a1)"
   ]
  },
  {
   "cell_type": "code",
   "execution_count": 51,
   "id": "a7b0f9f9",
   "metadata": {},
   "outputs": [
    {
     "name": "stdout",
     "output_type": "stream",
     "text": [
      "[[1 2 3 4 5]\n",
      " [6 7 8 9 0]]\n"
     ]
    }
   ],
   "source": [
    "a2=np.array([[1,2,3,4,5],[6,7,8,9,0]])\n",
    "print(a2)"
   ]
  },
  {
   "cell_type": "code",
   "execution_count": 52,
   "id": "4896149a",
   "metadata": {},
   "outputs": [
    {
     "name": "stdout",
     "output_type": "stream",
     "text": [
      "3\n"
     ]
    }
   ],
   "source": [
    "print(a2[0,2])"
   ]
  },
  {
   "cell_type": "code",
   "execution_count": 54,
   "id": "773ecc5c",
   "metadata": {},
   "outputs": [
    {
     "name": "stdout",
     "output_type": "stream",
     "text": [
      "[1 2 3 4 5]\n",
      "[3 4 5 6 7]\n"
     ]
    }
   ],
   "source": [
    "a3=np.array([1,2,3,4,5])\n",
    "print(a3)\n",
    "a4=a3+2\n",
    "print(a4)"
   ]
  },
  {
   "cell_type": "code",
   "execution_count": 55,
   "id": "f934c5ee",
   "metadata": {},
   "outputs": [
    {
     "name": "stdout",
     "output_type": "stream",
     "text": [
      "[ 2  4  6  8 10]\n"
     ]
    }
   ],
   "source": [
    "a5=a3*2\n",
    "print(a5)"
   ]
  },
  {
   "cell_type": "code",
   "execution_count": 58,
   "id": "dfe92693",
   "metadata": {},
   "outputs": [
    {
     "name": "stdout",
     "output_type": "stream",
     "text": [
      "15\n",
      "3.0\n",
      "5\n",
      "1\n",
      "1.4142135623730951\n"
     ]
    }
   ],
   "source": [
    "print(np.sum(a3))\n",
    "print(np.mean(a3))\n",
    "print(np.max(a3))\n",
    "print(np.min(a3))\n",
    "print(np.std(a3))"
   ]
  },
  {
   "cell_type": "code",
   "execution_count": null,
   "id": "42a0ce24",
   "metadata": {},
   "outputs": [],
   "source": []
  }
 ],
 "metadata": {
  "kernelspec": {
   "display_name": "Python 3",
   "language": "python",
   "name": "python3"
  },
  "language_info": {
   "codemirror_mode": {
    "name": "ipython",
    "version": 3
   },
   "file_extension": ".py",
   "mimetype": "text/x-python",
   "name": "python",
   "nbconvert_exporter": "python",
   "pygments_lexer": "ipython3",
   "version": "3.8.8"
  }
 },
 "nbformat": 4,
 "nbformat_minor": 5
}
